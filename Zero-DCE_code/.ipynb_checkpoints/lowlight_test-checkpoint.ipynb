{
 "cells": [
  {
   "cell_type": "code",
   "execution_count": 6,
   "id": "5c105995",
   "metadata": {
    "scrolled": true
   },
   "outputs": [
    {
     "name": "stdout",
     "output_type": "stream",
     "text": [
      "传入图像路径:  data/test_data/DICM\\01.jpg\n",
      "enhanced_image_1:torch.Size([1, 3, 640, 480]) enhanced_image:torch.Size([1, 3, 640, 480]) A:torch.Size([1, 24, 640, 480])\n",
      "L_TV.size:torch.Size([1, 24, 640, 480])\n",
      "Loss_TV： 0.16516003012657166 loss_spa： 0.0034713877830654383 loss_col： 0.23342359066009521 loss_exp： 2.124347448348999\n",
      "用时： 0.14711236953735352\n",
      "data/result/DICM\\01.jpg\n"
     ]
    }
   ],
   "source": [
    "# %load lowlight_test.py\n",
    "import torch\n",
    "import torch.nn as nn\n",
    "import torchvision\n",
    "import torch.backends.cudnn as cudnn\n",
    "import torch.optim\n",
    "import os\n",
    "import sys\n",
    "import argparse\n",
    "import time\n",
    "import dataloader\n",
    "import model\n",
    "import Myloss\n",
    "import numpy as np\n",
    "from torchvision import transforms\n",
    "from PIL import Image\n",
    "import glob\n",
    "import time\n",
    "\n",
    "\n",
    "\n",
    "def lowlight(image_path):\n",
    "    os.environ['CUDA_VISIBLE_DEVICES']='0'\n",
    "    data_lowlight = Image.open(image_path)   \n",
    "\n",
    "    data_lowlight = (np.asarray(data_lowlight)/255.0)\n",
    "\n",
    "\n",
    "    data_lowlight = torch.from_numpy(data_lowlight).float()\n",
    "    data_lowlight = data_lowlight.permute(2,0,1)\n",
    "    data_lowlight = data_lowlight.cuda().unsqueeze(0)    #类型转换\n",
    "    \n",
    "    # ---------------------计算loss---------------------------\n",
    "    L_color = Myloss.L_color()\n",
    "    L_spa = Myloss.L_spa()\n",
    "    L_exp = Myloss.L_exp(16,0.6)\n",
    "    L_TV = Myloss.L_TV()\n",
    "    # --------------------------------------------------------\n",
    "    \n",
    "    DCE_net = model.enhance_net_nopool().cuda()          #在这里就 导入了model的骨架\n",
    "    DCE_net.load_state_dict(torch.load('snapshots/Epoch99.pth'))    #导入model的参数\n",
    "    start = time.time()\n",
    "    \n",
    "    enhanced_image_1,enhanced_image,A  = DCE_net(data_lowlight)      # from train\n",
    "    print('enhanced_image_1:{} enhanced_image:{} A:{}'.format(enhanced_image_1.size(),enhanced_image.size(),A.size()))\n",
    "        \n",
    "    torch.save(A, 'A')\n",
    "#     _,enhanced_image,_ = DCE_net(data_lowlight)                     #图像增强forward，DCE_net是上几行导入的\n",
    "\n",
    "    Loss_TV = 200*L_TV(A)\n",
    "    loss_spa = torch.mean(L_spa(enhanced_image, data_lowlight))\n",
    "    loss_col = 5*torch.mean(L_color(enhanced_image))\n",
    "    loss_exp = 10*torch.mean(L_exp(enhanced_image))\n",
    "\n",
    "    # best_loss\n",
    "    loss =  Loss_TV + loss_spa + loss_col + loss_exp\n",
    "    print('Loss_TV： {} loss_spa： {} loss_col： {} loss_exp： {}'.format(Loss_TV , loss_spa , loss_col ,loss_exp))\n",
    "\n",
    "    end_time = (time.time() - start)\n",
    "    print('用时：',end_time)\n",
    "    image_path = image_path.replace('test_data','result')           #这一行会有名称上的bug\n",
    "    result_path = image_path\n",
    "    if not os.path.exists(image_path.replace('/'+image_path.split(\"/\")[-1],'')):\n",
    "        os.makedirs(image_path.replace('/'+image_path.split(\"/\")[-1],''))\n",
    "        \n",
    "    print(result_path)\n",
    "    torchvision.utils.save_image(enhanced_image, result_path)\n",
    "\n",
    "if __name__ == '__main__':\n",
    "# test_images\n",
    "    with torch.no_grad():\n",
    "        filePath = 'data/test_data/'\n",
    "\n",
    "        file_list = os.listdir(filePath)\n",
    "\n",
    "        for file_name in file_list:\n",
    "            test_list = glob.glob(filePath+file_name+\"/*\") \n",
    "            for image in test_list:\n",
    "                # image = image\n",
    "                print('传入图像路径: ',image)\n",
    "                lowlight(image)\n",
    "                break\n",
    "            break\n",
    "\n",
    "\n",
    "\n",
    "\n"
   ]
  },
  {
   "cell_type": "code",
   "execution_count": 2,
   "id": "e39e7b77",
   "metadata": {},
   "outputs": [
    {
     "ename": "NameError",
     "evalue": "name 'A' is not defined",
     "output_type": "error",
     "traceback": [
      "\u001b[1;31m---------------------------------------------------------------------------\u001b[0m",
      "\u001b[1;31mNameError\u001b[0m                                 Traceback (most recent call last)",
      "\u001b[1;32m<ipython-input-2-1bc64a9f35b3>\u001b[0m in \u001b[0;36m<module>\u001b[1;34m\u001b[0m\n\u001b[1;32m----> 1\u001b[1;33m \u001b[0mnp\u001b[0m\u001b[1;33m.\u001b[0m\u001b[0msave\u001b[0m\u001b[1;33m(\u001b[0m\u001b[1;34m'A'\u001b[0m\u001b[1;33m,\u001b[0m\u001b[0mA\u001b[0m\u001b[1;33m)\u001b[0m\u001b[1;33m\u001b[0m\u001b[1;33m\u001b[0m\u001b[0m\n\u001b[0m",
      "\u001b[1;31mNameError\u001b[0m: name 'A' is not defined"
     ]
    }
   ],
   "source": []
  }
 ],
 "metadata": {
  "kernelspec": {
   "display_name": "Python 3",
   "language": "python",
   "name": "python3"
  },
  "language_info": {
   "codemirror_mode": {
    "name": "ipython",
    "version": 3
   },
   "file_extension": ".py",
   "mimetype": "text/x-python",
   "name": "python",
   "nbconvert_exporter": "python",
   "pygments_lexer": "ipython3",
   "version": "3.6.13"
  }
 },
 "nbformat": 4,
 "nbformat_minor": 5
}
