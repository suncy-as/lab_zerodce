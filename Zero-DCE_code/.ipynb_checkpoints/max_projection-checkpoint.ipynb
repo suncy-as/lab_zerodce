{
 "cells": [
  {
   "cell_type": "code",
   "execution_count": 1,
   "id": "e4b4e616",
   "metadata": {},
   "outputs": [
    {
     "name": "stdout",
     "output_type": "stream",
     "text": [
      "运行了1432/1433张图片\r"
     ]
    }
   ],
   "source": [
    "# 这里用来进行最大值投影\n",
    "import argparse\n",
    "import random\n",
    "import glob as glob\n",
    "import numpy as np\n",
    "import tifffile as tiff\n",
    "import cv2\n",
    "import matplotlib.pyplot as plt\n",
    "\n",
    "def get_img(path):    #读取tiff格式和其它格式图片，主要为3维16位图片\n",
    "    if 'tif' in path:\n",
    "        img = tiff.imread(path)\n",
    "    else:\n",
    "        img = 0\n",
    "        print(\"wrong image format\")\n",
    "    return img\n",
    "\n",
    "def populate_img_list(lowlight_images_path):\n",
    "    image_list_lowlight = glob.glob(lowlight_images_path + \"*.tif\")\n",
    "    train_list = image_list_lowlight\n",
    "    random.shuffle(train_list)\n",
    "    return train_list        # 返回图片集每张图片的路径\n",
    "\n",
    "def max_projection(img): # 进行最大值投影\n",
    "    image0, image1, image2 = np.max(img, axis = 0), np.max(img, axis = 1), np.max(img, axis = 2)\n",
    "    return image0, image1, image2\n",
    "    \n",
    "def save_img(config): # 保存图片，同时传入config\n",
    "    img_list = populate_img_list(config.img_path)\n",
    "    for i, path in enumerate(img_list):\n",
    "        img = get_img(path)\n",
    "        new_path = path.replace('img', 'max_projection_img').split('.')[0]\n",
    "\n",
    "        for j, image in enumerate(max_projection(img)):\n",
    "            new_path_ = new_path + '_'+ str(j) + '.tif'\n",
    "            tiff.imsave(new_path_, image)\n",
    "        \n",
    "        print('运行了{}/{}张图片'.format(i+1, len(img_list)),end='\\r')\n",
    "\n",
    "if __name__ == '__main__':\n",
    "    parser = argparse.ArgumentParser()\n",
    "    parser.add_argument('--img_path', type=str, default= \"E:/zero_dce_data/img/\")\n",
    "    parser.add_argument(\"-f\", \"--fff\", help=\"a dummy argument to fool ipython\", default=\"1\")\n",
    "    config = parser.parse_args()\n",
    "\n",
    "    save_img(config)\n",
    "\n",
    "\n",
    "\n"
   ]
  },
  {
   "cell_type": "code",
   "execution_count": 12,
   "id": "1b696d92",
   "metadata": {},
   "outputs": [
    {
     "name": "stdout",
     "output_type": "stream",
     "text": [
      "共有4299个文件\n"
     ]
    }
   ],
   "source": [
    "# 这里用来分train，test和val\n",
    "import argparse\n",
    "import glob\n",
    "import random\n",
    "import shutil\n",
    "\n",
    "def populate_img_list(lowlight_images_path):\n",
    "    image_list_lowlight = glob.glob(lowlight_images_path + \"*.tif\")\n",
    "    train_list = image_list_lowlight\n",
    "    random.shuffle(train_list)\n",
    "    return train_list        # 返回图片集每张图片的路径\n",
    "\n",
    "def func(config):\n",
    "    path_list = populate_img_list(config.img_path)\n",
    "    path_length = len(path_list)\n",
    "    print('共有{}个文件'.format(path_length))\n",
    "    test_list = path_list[0:int(path_length/10)]\n",
    "    val_list = path_list[int(path_length*9/10):path_length]\n",
    "    for i, path in enumerate(test_list):\n",
    "        shutil.move(path, config.test_path)\n",
    "        \n",
    "    for j, path in enumerate(val_list):\n",
    "        shutil.move(path, config.val_path)\n",
    "\n",
    "\n",
    "\n",
    "\n",
    "\n",
    "\n",
    "\n",
    "if __name__ == '__main__':\n",
    "    parser = argparse.ArgumentParser()\n",
    "    parser.add_argument('--img_path', type=str, default= \"E:/zero_dce_data/max_projection_img/\")\n",
    "    parser.add_argument('--test_path', type=str, default= \"E:/zero_dce_data/max_projection_img_test/\")\n",
    "    parser.add_argument('--val_path', type=str, default= \"E:/zero_dce_data/max_projection_img_val/\")    \n",
    "    parser.add_argument(\"-f\", \"--fff\", help=\"a dummy argument to fool ipython\", default=\"1\")\n",
    "    config = parser.parse_args()\n",
    "    \n",
    "    func(config)\n",
    "\n",
    "\n"
   ]
  }
 ],
 "metadata": {
  "kernelspec": {
   "display_name": "Python 3",
   "language": "python",
   "name": "python3"
  },
  "language_info": {
   "codemirror_mode": {
    "name": "ipython",
    "version": 3
   },
   "file_extension": ".py",
   "mimetype": "text/x-python",
   "name": "python",
   "nbconvert_exporter": "python",
   "pygments_lexer": "ipython3",
   "version": "3.6.13"
  }
 },
 "nbformat": 4,
 "nbformat_minor": 5
}
