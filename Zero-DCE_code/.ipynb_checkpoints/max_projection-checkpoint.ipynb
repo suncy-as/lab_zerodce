{
 "cells": [
  {
   "cell_type": "code",
   "execution_count": null,
   "id": "2adc6068",
   "metadata": {},
   "outputs": [
    {
     "name": "stdout",
     "output_type": "stream",
     "text": [
      "运行了2/1433张图片\r"
     ]
    }
   ],
   "source": [
    "import argparse\n",
    "import random\n",
    "import glob as glob\n",
    "import numpy as np\n",
    "import tifffile as tiff\n",
    "import cv2\n",
    "import matplotlib.pyplot as plt\n",
    "\n",
    "def get_img(path):    #读取tiff格式和其它格式图片，主要为3维16位图片\n",
    "    if 'tif' in path:\n",
    "        img = tiff.imread(path)\n",
    "    else:\n",
    "        img = 0\n",
    "        print(\"wrong image format\")\n",
    "    return img\n",
    "\n",
    "def populate_img_list(lowlight_images_path):\n",
    "    image_list_lowlight = glob.glob(lowlight_images_path + \"*.tif\")\n",
    "    train_list = image_list_lowlight\n",
    "    random.shuffle(train_list)\n",
    "    return train_list        # 返回图片集每张图片的路径\n",
    "\n",
    "def max_projection(img): # 进行最大值投影\n",
    "    image0, image1, image2 = np.max(img, axis = 0), np.max(img, axis = 1), np.max(img, axis = 2)\n",
    "    return image0, image1, image2\n",
    "    \n",
    "def save_img(config): # 保存图片，同时传入config\n",
    "    img_list = populate_img_list(config.img_path)\n",
    "    for i, path in enumerate(img_list):\n",
    "        img = get_img(path)\n",
    "        new_path = path.replace('img', 'max_projection_img').split('.')[0]\n",
    "\n",
    "        for j, image in enumerate(max_projection(img)):\n",
    "            new_path_ = new_path + '_'+ str(j) + '.tif'\n",
    "            tiff.imsave(new_path_, image)\n",
    "        \n",
    "        print('运行了{}/{}张图片'.format(i, len(img_list)),end='\\r')\n",
    "\n",
    "if __name__ == '__main__':\n",
    "    parser = argparse.ArgumentParser()\n",
    "    parser.add_argument('--img_path', type=str, default= \"E:/zero_dce_data/img/\")\n",
    "    parser.add_argument(\"-f\", \"--fff\", help=\"a dummy argument to fool ipython\", default=\"1\")\n",
    "    config = parser.parse_args()\n",
    "\n",
    "    save_img(config)\n",
    "\n",
    "\n",
    "\n"
   ]
  },
  {
   "cell_type": "code",
   "execution_count": 19,
   "id": "87e5cfe9",
   "metadata": {},
   "outputs": [
    {
     "ename": "NameError",
     "evalue": "name 'img_list' is not defined",
     "output_type": "error",
     "traceback": [
      "\u001b[1;31m---------------------------------------------------------------------------\u001b[0m",
      "\u001b[1;31mNameError\u001b[0m                                 Traceback (most recent call last)",
      "\u001b[1;32m<ipython-input-19-0db63ea0efef>\u001b[0m in \u001b[0;36m<module>\u001b[1;34m()\u001b[0m\n\u001b[1;32m----> 1\u001b[1;33m \u001b[0mprint\u001b[0m\u001b[1;33m(\u001b[0m\u001b[0mimg_list\u001b[0m\u001b[1;33m)\u001b[0m\u001b[1;33m\u001b[0m\u001b[1;33m\u001b[0m\u001b[0m\n\u001b[0m",
      "\u001b[1;31mNameError\u001b[0m: name 'img_list' is not defined"
     ]
    }
   ],
   "source": []
  }
 ],
 "metadata": {
  "kernelspec": {
   "display_name": "Python 3",
   "language": "python",
   "name": "python3"
  },
  "language_info": {
   "codemirror_mode": {
    "name": "ipython",
    "version": 3
   },
   "file_extension": ".py",
   "mimetype": "text/x-python",
   "name": "python",
   "nbconvert_exporter": "python",
   "pygments_lexer": "ipython3",
   "version": "3.6.13"
  }
 },
 "nbformat": 4,
 "nbformat_minor": 5
}
